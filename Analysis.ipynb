{
 "cells": [
  {
   "cell_type": "code",
   "execution_count": 1,
   "metadata": {},
   "outputs": [],
   "source": [
    "import numpy as np\n",
    "import pickle\n",
    "from delta_classes import Cell, SubCell, Chamber\n",
    "\n",
    "# open the results from Delta pipeline\n",
    "with open(\"data0.pickle\", \"rb\") as file:\n",
    "    data_object = pickle.load(file)\n"
   ]
  },
  {
   "cell_type": "code",
   "execution_count": 2,
   "metadata": {},
   "outputs": [],
   "source": [
    "\n",
    "# prepare dictionary to create cells\n",
    "\n",
    "extract_data_list = []\n",
    "for lineage_list_no in range(len(data_object['res'])):\n",
    "    extract_data_list.append([])\n",
    "    for cell_number, cell_res in enumerate((data_object['res'][lineage_list_no]['lineage'])):\n",
    "        lineage_dict = dict(\n",
    "            cell_number = cell_number+1,\n",
    "            mother_nb = cell_res['mothernb'],\n",
    "            chamber_nb = lineage_list_no+1,\n",
    "            framenbs = cell_res['framenbs'],\n",
    "            daughters = cell_res['daughters'],\n",
    "            length = cell_res['length'],\n",
    "            width = cell_res['width'],\n",
    "            area = cell_res['area'],\n",
    "            fluorescence = cell_res['fluo1']\n",
    "            )\n",
    "        extract_data_list[lineage_list_no].append(lineage_dict)\n",
    "\n"
   ]
  },
  {
   "cell_type": "code",
   "execution_count": 3,
   "metadata": {},
   "outputs": [],
   "source": [
    "# create chamber family tree\n",
    "all_family_trees = []\n",
    "for chamber in extract_data_list:\n",
    "    family_tree = []\n",
    "    for cell in chamber:\n",
    "        lineage_db = dict(\n",
    "            cell_nb = cell['cell_number'],\n",
    "            mother_nb = cell['mother_nb']\n",
    "        )\n",
    "        family_tree.append(lineage_db)\n",
    "    all_family_trees.append(family_tree)\n",
    "\n",
    "\n"
   ]
  },
  {
   "cell_type": "code",
   "execution_count": 4,
   "metadata": {},
   "outputs": [],
   "source": [
    "# initialize all cells and store them in experiment\n",
    "#experiment = []\n",
    "chambers = []\n",
    "total_cell = 0\n",
    "for count, chamber in enumerate(extract_data_list):\n",
    "    current_chamber_number = count+1\n",
    "    cells_in_chamber = []\n",
    "    for cell in chamber:\n",
    "        current_cell = Cell(\n",
    "            total_cell,\n",
    "            cell['cell_number'],\n",
    "            cell['mother_nb'], \n",
    "            cell['chamber_nb'],\n",
    "            cell['framenbs'],\n",
    "            cell['daughters'],\n",
    "            cell['length'],\n",
    "            cell['width'],\n",
    "            cell['area'],\n",
    "            cell['fluorescence'],\n",
    "            all_family_trees[count])\n",
    "        #experiment.append(current_cell)\n",
    "        total_cell += 1\n",
    "        cells_in_chamber.append(current_cell)\n",
    "    chamber_object = Chamber(current_chamber_number, cells_in_chamber)\n",
    "    chambers.append(chamber_object)\n",
    "\n",
    "\n"
   ]
  },
  {
   "cell_type": "code",
   "execution_count": 5,
   "metadata": {},
   "outputs": [],
   "source": [
    "# Map out lineage trees here\n",
    "for chamber in chambers:\n",
    "    for cell in chamber.cells:\n",
    "        cell.make_ancestry_map()\n",
    "        cell.find_lineage()\n",
    "\n"
   ]
  },
  {
   "cell_type": "code",
   "execution_count": 6,
   "metadata": {},
   "outputs": [],
   "source": [
    "# calculate fluorescence by area\n",
    "for chamber in chambers:\n",
    "    for cell in chamber.cells:\n",
    "        cell.calculate_fluorescence_by_area()\n",
    "\n"
   ]
  },
  {
   "cell_type": "code",
   "execution_count": 7,
   "metadata": {},
   "outputs": [],
   "source": [
    "# Calculate change in variables over time\n",
    "for chamber in chambers:\n",
    "    for cell in chamber.cells:\n",
    "        cell.calculate_area_growth()\n",
    "        cell.calculate_length_growth()\n",
    "        cell.calculate_width_growth()\n",
    "        cell.calculate_fluorescence_growth()\n",
    "        cell.calculate_fluorescence_growth_by_area()\n",
    "\n"
   ]
  },
  {
   "cell_type": "code",
   "execution_count": 8,
   "metadata": {},
   "outputs": [],
   "source": [
    "# Create subcell object and append it to cells        \n",
    "for chamber in chambers:\n",
    "    for cell in chamber.cells:\n",
    "        cell.create_subCells()\n",
    "\n"
   ]
  },
  {
   "cell_type": "code",
   "execution_count": 10,
   "metadata": {},
   "outputs": [
    {
     "data": {
      "text/plain": [
       "0.4626953801283677"
      ]
     },
     "execution_count": 10,
     "metadata": {},
     "output_type": "execute_result"
    }
   ],
   "source": [
    "# find average growth rate of all subcells\n",
    "average_growth_length = []\n",
    "for chamber in chambers:\n",
    "    for cell in chamber.cells:\n",
    "        for subcell in cell.subcells:\n",
    "            current_average_growth_length = np.mean(subcell.length_growth)\n",
    "            if not np.isnan(current_average_growth_length): #nans produced by subcells.length_growth = []\n",
    "                average_growth_length.append(current_average_growth_length)\n",
    "\n",
    "average_growth_length_per_minute = np.mean(average_growth_length)\n",
    "            \n",
    "average_growth_length_per_minute"
   ]
  },
  {
   "cell_type": "code",
   "execution_count": 17,
   "metadata": {},
   "outputs": [
    {
     "name": "stdout",
     "output_type": "stream",
     "text": [
      "152\n",
      "examples of nan producers (array([], dtype=float64), array([], dtype=float64), array([ 0.,  0.,  0.,  0.,  0., 62.])))\n"
     ]
    }
   ],
   "source": [
    "# sometimes the software fails to detect splitting events? or maybe it is the cell exiting the chamber?\n",
    "chambers[6].cells[33].daughters\n",
    "chambers[6].cells[33].length\n",
    "\n",
    "# how often does this happen if we assume that the wrong identification causes slope of -1\n",
    "len(average_growth_length)\n",
    "event_counter = 0\n",
    "for chamber in chambers:\n",
    "    for cell in chamber.cells:\n",
    "        for subcell in cell.subcells:\n",
    "            for value in subcell.length_growth:\n",
    "                if value < -1:\n",
    "                    event_counter += 1\n",
    "print(event_counter)\n",
    "# maybe 152 out of 2369 subcells or 6.4% of cells. Again that is assuming that cells\n",
    "# Only decrease because of \n",
    "\n",
    "# Find out why nans are made\n",
    "average_growth_length = []\n",
    "for chamber in chambers:\n",
    "    for cell in chamber.cells:\n",
    "        for subcell in cell.subcells:\n",
    "            current_average_growth_length = np.mean(subcell.length_growth)\n",
    "            if np.isnan(current_average_growth_length):\n",
    "                cell.chamber_nb, cell.cell_number, subcell.subcell_nb\n",
    "\n",
    "# Nans are made when cells split right before it exits resulting in empty length_growth array\n",
    "# examples of nan producers\n",
    "print(f\"examples of nan producers {(chambers[0].cells[0].subcells[26].length_growth, chambers[15].cells[59].subcells[1].length_growth, chambers[15].cells[59].daughters)})\")"
   ]
  },
  {
   "cell_type": "code",
   "execution_count": null,
   "metadata": {},
   "outputs": [],
   "source": []
  }
 ],
 "metadata": {
  "kernelspec": {
   "display_name": "delta_analysis_env",
   "language": "python",
   "name": "delta_analysis_env"
  },
  "language_info": {
   "codemirror_mode": {
    "name": "ipython",
    "version": 3
   },
   "file_extension": ".py",
   "mimetype": "text/x-python",
   "name": "python",
   "nbconvert_exporter": "python",
   "pygments_lexer": "ipython3",
   "version": "3.8.3"
  }
 },
 "nbformat": 4,
 "nbformat_minor": 4
}
